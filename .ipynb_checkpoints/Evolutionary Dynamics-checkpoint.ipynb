{
 "cells": [
  {
   "cell_type": "code",
   "execution_count": 141,
   "metadata": {},
   "outputs": [],
   "source": [
    "import matplotlib.pyplot as plt\n",
    "import numpy as np\n",
    "%matplotlib inline"
   ]
  },
  {
   "cell_type": "code",
   "execution_count": 149,
   "metadata": {},
   "outputs": [],
   "source": [
    "xd = 0.04\n",
    "xg = 0.9\n",
    "xv = 0.06\n",
    "ba = 37.5\n",
    "bv = 2\n",
    "c = 1\n",
    "n = 4"
   ]
  },
  {
   "cell_type": "code",
   "execution_count": 150,
   "metadata": {},
   "outputs": [
    {
     "data": {
      "text/plain": [
       "[<matplotlib.lines.Line2D at 0x222d81c4da0>]"
      ]
     },
     "execution_count": 150,
     "metadata": {},
     "output_type": "execute_result"
    },
    {
     "data": {
      "image/png": "[encoded data removed]",
      "text/plain": [
       "<Figure size 432x288 with 1 Axes>"
      ]
     },
     "metadata": {
      "needs_background": "light"
     },
     "output_type": "display_data"
    }
   ],
   "source": [
    "xgpoints = []\n",
    "xdpoints = []\n",
    "xvpoints = []\n",
    "i = 0\n",
    "while (i <= 20):\n",
    "    ngbinomial = np.mean(np.random.binomial(n, xg, 1000))\n",
    "    multinomial = np.random.multinomial(n, [xg,xv,xd], 1000)\n",
    "    ngmultinomial = np.mean(multinomial[:,0])\n",
    "    nv = np.mean(multinomial[:,1])\n",
    "\n",
    "    wg = (ba*(ngbinomial+1))/(n+1)\n",
    "    wv = (ba*ngbinomial)/(n+1) + (bv*(nv+1))/(n-ngmultinomial+1) - c\n",
    "    wd = (ba*ngbinomial)/(n+1) + (bv*nv)/(n-ngmultinomial+1)\n",
    "\n",
    "    w = xg*wg + xv*wv + xd*wd\n",
    "\n",
    "    xgpoints.append(xg)\n",
    "    xdpoints.append(xd)\n",
    "    xvpoints.append(xv)\n",
    "    xg = xg + xg * (wg - w) * 0.000001\n",
    "    xv = xv + xv * (wv - w) * 0.000001\n",
    "#   xd = xd + xd * (wd - w) * 0.000001\n",
    "    xd = 1 - xg - xv\n",
    "    i = i + 0.01\n",
    "\n",
    "plt.plot(xgpoints)\n",
    "plt.plot(xdpoints)\n",
    "plt.plot(xvpoints)"
   ]
  },
  {
   "cell_type": "code",
   "execution_count": null,
   "metadata": {},
   "outputs": [],
   "source": [
    "# ngbinomial = np.mean(np.random.binomial(n, xg, 1000))       #Ng ~ Bn(xg) \n",
    "# multinomial = np.random.multinomial(n, [xg,xv,xd], 1000)    #generate random multinomial 1000 times      \n",
    "# ngmultinomial = np.mean(multinomial[:,0])                   #Ng ~ Mn(xg,xv) \n",
    "# nv = np.mean(multinomial[:,1])                              #Nv ~ Mn(xg,xv) \n",
    "\n",
    "# wg = (ba*(ngbinomial+1))/(n+1)\n",
    "# wv = (ba*ngbinomial)/(n+1) + (bv*(nv+1))/(n-ngmultinomial+1) - c\n",
    "# wd = (ba*ngbinomial)/(n+1) + (bv*nv)/(n-ngmultinomial+1)\n",
    "\n",
    "# w = xg*wg + xv*wv + xd*wd\n",
    "\n",
    "# xg_ot = xg * (wg - w) #xg_overtime\n",
    "# xv_ot = xv * (wv - w)\n",
    "# xd_ot = xd * (wd - w)\n",
    "\n",
    "# xg = xg + xg * (wg - w) * 1\n",
    "# xv = xv + xv * (wv - w) * 1\n",
    "# xd = xd + xd * (wd - w) * 1\n",
    "# print(xg_ot,xv_ot,xd_ot)\n",
    "# print(xg,xv,xd)"
   ]
  }
 ],
 "metadata": {
  "kernelspec": {
   "display_name": "Python 3",
   "language": "python",
   "name": "python3"
  },
  "language_info": {
   "codemirror_mode": {
    "name": "ipython",
    "version": 3
   },
   "file_extension": ".py",
   "mimetype": "text/x-python",
   "name": "python",
   "nbconvert_exporter": "python",
   "pygments_lexer": "ipython3",
   "version": "3.7.3"
  }
 },
 "nbformat": 4,
 "nbformat_minor": 2
}
